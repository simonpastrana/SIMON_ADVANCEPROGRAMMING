{
 "cells": [
  {
   "cell_type": "code",
   "execution_count": 199,
   "id": "9358849d",
   "metadata": {},
   "outputs": [],
   "source": [
    "import pandas as pd\n",
    "import numpy as np\n",
    "import matplotlib.pyplot as plt\n",
    "import seaborn as sns\n",
    "from sklearn.model_selection import train_test_split\n",
    "from sklearn.linear_model import LinearRegression\n",
    "from sklearn.metrics import r2_score\n",
    "import math \n",
    "from sklearn.metrics import mean_squared_error\n",
    "\n",
    "sns.set()\n",
    "%matplotlib inline"
   ]
  },
  {
   "cell_type": "code",
   "execution_count": 132,
   "id": "8b0734e5",
   "metadata": {},
   "outputs": [],
   "source": [
    "df = pd.read_csv('/Users/simonpastrana/Desktop/BABSON MSBA/SPRING SEMESTER/ADVANCE PROGRAMMING/GROUP WORK/Housing data homework.csv')"
   ]
  },
  {
   "cell_type": "code",
   "execution_count": 133,
   "id": "598c0ea0",
   "metadata": {},
   "outputs": [
    {
     "data": {
      "text/html": [
       "<div>\n",
       "<style scoped>\n",
       "    .dataframe tbody tr th:only-of-type {\n",
       "        vertical-align: middle;\n",
       "    }\n",
       "\n",
       "    .dataframe tbody tr th {\n",
       "        vertical-align: top;\n",
       "    }\n",
       "\n",
       "    .dataframe thead th {\n",
       "        text-align: right;\n",
       "    }\n",
       "</style>\n",
       "<table border=\"1\" class=\"dataframe\">\n",
       "  <thead>\n",
       "    <tr style=\"text-align: right;\">\n",
       "      <th></th>\n",
       "      <th>Date</th>\n",
       "      <th>Value</th>\n",
       "    </tr>\n",
       "  </thead>\n",
       "  <tbody>\n",
       "    <tr>\n",
       "      <th>0</th>\n",
       "      <td>1</td>\n",
       "      <td>202225</td>\n",
       "    </tr>\n",
       "    <tr>\n",
       "      <th>1</th>\n",
       "      <td>2</td>\n",
       "      <td>203846</td>\n",
       "    </tr>\n",
       "    <tr>\n",
       "      <th>2</th>\n",
       "      <td>3</td>\n",
       "      <td>205338</td>\n",
       "    </tr>\n",
       "    <tr>\n",
       "      <th>3</th>\n",
       "      <td>4</td>\n",
       "      <td>208403</td>\n",
       "    </tr>\n",
       "    <tr>\n",
       "      <th>4</th>\n",
       "      <td>5</td>\n",
       "      <td>211332</td>\n",
       "    </tr>\n",
       "  </tbody>\n",
       "</table>\n",
       "</div>"
      ],
      "text/plain": [
       "   Date   Value\n",
       "0     1  202225\n",
       "1     2  203846\n",
       "2     3  205338\n",
       "3     4  208403\n",
       "4     5  211332"
      ]
     },
     "execution_count": 133,
     "metadata": {},
     "output_type": "execute_result"
    }
   ],
   "source": [
    "df.head()"
   ]
  },
  {
   "cell_type": "code",
   "execution_count": 134,
   "id": "bab2389d",
   "metadata": {},
   "outputs": [
    {
     "data": {
      "text/plain": [
       "(276, 2)"
      ]
     },
     "execution_count": 134,
     "metadata": {},
     "output_type": "execute_result"
    }
   ],
   "source": [
    "df.shape"
   ]
  },
  {
   "cell_type": "code",
   "execution_count": 135,
   "id": "8347fc59",
   "metadata": {},
   "outputs": [
    {
     "data": {
      "text/plain": [
       "False"
      ]
     },
     "execution_count": 135,
     "metadata": {},
     "output_type": "execute_result"
    }
   ],
   "source": [
    "df.isnull().values.any()"
   ]
  },
  {
   "cell_type": "code",
   "execution_count": 174,
   "id": "d1442c0a",
   "metadata": {},
   "outputs": [
    {
     "data": {
      "text/html": [
       "<div>\n",
       "<style scoped>\n",
       "    .dataframe tbody tr th:only-of-type {\n",
       "        vertical-align: middle;\n",
       "    }\n",
       "\n",
       "    .dataframe tbody tr th {\n",
       "        vertical-align: top;\n",
       "    }\n",
       "\n",
       "    .dataframe thead th {\n",
       "        text-align: right;\n",
       "    }\n",
       "</style>\n",
       "<table border=\"1\" class=\"dataframe\">\n",
       "  <thead>\n",
       "    <tr style=\"text-align: right;\">\n",
       "      <th></th>\n",
       "      <th>Date</th>\n",
       "      <th>Value</th>\n",
       "    </tr>\n",
       "  </thead>\n",
       "  <tbody>\n",
       "    <tr>\n",
       "      <th>count</th>\n",
       "      <td>276.000000</td>\n",
       "      <td>276.000000</td>\n",
       "    </tr>\n",
       "    <tr>\n",
       "      <th>mean</th>\n",
       "      <td>138.500000</td>\n",
       "      <td>460752.630435</td>\n",
       "    </tr>\n",
       "    <tr>\n",
       "      <th>std</th>\n",
       "      <td>79.818544</td>\n",
       "      <td>122057.934212</td>\n",
       "    </tr>\n",
       "    <tr>\n",
       "      <th>min</th>\n",
       "      <td>1.000000</td>\n",
       "      <td>202225.000000</td>\n",
       "    </tr>\n",
       "    <tr>\n",
       "      <th>25%</th>\n",
       "      <td>69.750000</td>\n",
       "      <td>408624.500000</td>\n",
       "    </tr>\n",
       "    <tr>\n",
       "      <th>50%</th>\n",
       "      <td>138.500000</td>\n",
       "      <td>470453.000000</td>\n",
       "    </tr>\n",
       "    <tr>\n",
       "      <th>75%</th>\n",
       "      <td>207.250000</td>\n",
       "      <td>586972.750000</td>\n",
       "    </tr>\n",
       "    <tr>\n",
       "      <th>max</th>\n",
       "      <td>276.000000</td>\n",
       "      <td>644175.000000</td>\n",
       "    </tr>\n",
       "  </tbody>\n",
       "</table>\n",
       "</div>"
      ],
      "text/plain": [
       "             Date          Value\n",
       "count  276.000000     276.000000\n",
       "mean   138.500000  460752.630435\n",
       "std     79.818544  122057.934212\n",
       "min      1.000000  202225.000000\n",
       "25%     69.750000  408624.500000\n",
       "50%    138.500000  470453.000000\n",
       "75%    207.250000  586972.750000\n",
       "max    276.000000  644175.000000"
      ]
     },
     "execution_count": 174,
     "metadata": {},
     "output_type": "execute_result"
    }
   ],
   "source": [
    "df.describe()"
   ]
  },
  {
   "cell_type": "code",
   "execution_count": 137,
   "id": "98e877dd",
   "metadata": {},
   "outputs": [
    {
     "data": {
      "text/plain": [
       "<seaborn.axisgrid.JointGrid at 0x7fa7b3954be0>"
      ]
     },
     "execution_count": 137,
     "metadata": {},
     "output_type": "execute_result"
    },
    {
     "data": {
      "image/png": "[encoded data removed]",
      "text/plain": [
       "<Figure size 432x432 with 3 Axes>"
      ]
     },
     "metadata": {
      "needs_background": "light"
     },
     "output_type": "display_data"
    }
   ],
   "source": [
    "sns.jointplot(x='Date', y='Value',data=df)"
   ]
  },
  {
   "cell_type": "code",
   "execution_count": 175,
   "id": "afbc23fc",
   "metadata": {},
   "outputs": [
    {
     "data": {
      "text/plain": [
       "<AxesSubplot:xlabel='Date', ylabel='Value'>"
      ]
     },
     "execution_count": 175,
     "metadata": {},
     "output_type": "execute_result"
    },
    {
     "data": {
      "image/png": "[encoded data removed]",
      "text/plain": [
       "<Figure size 432x288 with 1 Axes>"
      ]
     },
     "metadata": {
      "needs_background": "light"
     },
     "output_type": "display_data"
    }
   ],
   "source": [
    "sns.regplot(x='Date', # Horizontal axis\n",
    "           y='Value', # Vertical axis\n",
    "           data=df_copy)"
   ]
  },
  {
   "cell_type": "code",
   "execution_count": 138,
   "id": "78c1b7ce",
   "metadata": {},
   "outputs": [],
   "source": [
    "N = df.shape[0]"
   ]
  },
  {
   "cell_type": "code",
   "execution_count": 139,
   "id": "ac7a67bb",
   "metadata": {},
   "outputs": [],
   "source": [
    "training_size = int(N*0.8)"
   ]
  },
  {
   "cell_type": "code",
   "execution_count": 140,
   "id": "e0be9d80",
   "metadata": {},
   "outputs": [],
   "source": [
    "df_train, df_test = train_test_split(df, train_size=training_size, random_state=0)"
   ]
  },
  {
   "cell_type": "code",
   "execution_count": 141,
   "id": "74af6b29",
   "metadata": {},
   "outputs": [],
   "source": [
    "Date_train = df_train.iloc[:, :-1]\n",
    "Value_train = df_train.iloc[:, -1]"
   ]
  },
  {
   "cell_type": "code",
   "execution_count": 153,
   "id": "9f21e701",
   "metadata": {},
   "outputs": [],
   "source": [
    "Date_test = df_test.iloc[:, :-1]\n",
    "Value_test = df_test.iloc[:, -1]"
   ]
  },
  {
   "cell_type": "code",
   "execution_count": 154,
   "id": "9379f378",
   "metadata": {},
   "outputs": [],
   "source": [
    "model = LinearRegression().fit(Date_train, Value_train)"
   ]
  },
  {
   "cell_type": "code",
   "execution_count": 155,
   "id": "c2fe1f36",
   "metadata": {},
   "outputs": [
    {
     "name": "stdout",
     "output_type": "stream",
     "text": [
      "[524540.31433978 286994.0803869  343218.0410858  369924.42241779\n",
      " 530162.71040967 559680.2897766  395225.20473229 579358.67602122\n",
      " 441609.97230889 532973.90844462 428959.58115164 572330.68093386\n",
      " 608876.25538815 407875.59588955 531568.30942715 296833.2735092\n",
      " 348840.4371557  485183.54185055 645421.82984244 277154.88726459\n",
      " 354462.83322559 479561.14578066 538596.30451451 547029.89861935\n",
      " 282777.28333448 509078.72514758 391008.40767988 437393.17525648\n",
      " 275749.28824711 568113.88388144 575141.8789688  417714.78901186\n",
      " 379763.61554009 632771.43868518 597631.46324836 414903.59097691\n",
      " 443015.57132637 329162.05091108 468316.35364088 596225.86423089\n",
      " 634177.03770265 556869.09174166 565302.68584649 392414.00669735\n",
      " 554057.89370671 603253.85931825 629960.24065024 419120.38802933\n",
      " 303861.26859657 431770.77918658 516106.72023495 528757.1113922\n",
      " 580764.27503869 317917.2587713  355868.43224306 482372.3438156 ]\n"
     ]
    }
   ],
   "source": [
    "predictions = model.predict(Date_test)\n",
    "print(predictions)"
   ]
  },
  {
   "cell_type": "code",
   "execution_count": 162,
   "id": "e4c62990",
   "metadata": {},
   "outputs": [],
   "source": [
    "errors= Value_test-predictions"
   ]
  },
  {
   "cell_type": "code",
   "execution_count": 163,
   "id": "8f3606a9",
   "metadata": {},
   "outputs": [],
   "source": [
    "errors_squared= errors**2"
   ]
  },
  {
   "cell_type": "code",
   "execution_count": 165,
   "id": "cc9c9427",
   "metadata": {},
   "outputs": [
    {
     "name": "stdout",
     "output_type": "stream",
     "text": [
      "1907453918.446327\n"
     ]
    }
   ],
   "source": [
    "mse=errors_squared.mean()\n",
    "print(mse)"
   ]
  },
  {
   "cell_type": "code",
   "execution_count": 167,
   "id": "8cddc54e",
   "metadata": {},
   "outputs": [
    {
     "name": "stdout",
     "output_type": "stream",
     "text": [
      "Our predictions in average were off by: 43674.40804918055 dollars\n"
     ]
    }
   ],
   "source": [
    "rmse = np.sqrt(mse)\n",
    "print ('On average, our predictions with the model were off by:', rmse, 'dollars')"
   ]
  },
  {
   "cell_type": "code",
   "execution_count": 168,
   "id": "037b769d",
   "metadata": {},
   "outputs": [],
   "source": [
    "ape=(abs(errors/Value_test))"
   ]
  },
  {
   "cell_type": "code",
   "execution_count": 171,
   "id": "05a7d4fb",
   "metadata": {},
   "outputs": [
    {
     "name": "stdout",
     "output_type": "stream",
     "text": [
      "On average, our predictions were off by: 0.08661622162455548\n"
     ]
    }
   ],
   "source": [
    "mape=ape.mean()\n",
    "print('On average, our predictions with the model were off by:', mape)"
   ]
  },
  {
   "cell_type": "code",
   "execution_count": 208,
   "id": "8c0629c6",
   "metadata": {},
   "outputs": [],
   "source": [
    "predictions_bench = Value_train.mean()"
   ]
  },
  {
   "cell_type": "code",
   "execution_count": 213,
   "id": "e9a45380",
   "metadata": {},
   "outputs": [],
   "source": [
    "errors_bench= Value_test - predictions_bench"
   ]
  },
  {
   "cell_type": "code",
   "execution_count": 214,
   "id": "c911ff8f",
   "metadata": {},
   "outputs": [],
   "source": [
    "errors_bench_squared= (errors_bench**2)"
   ]
  },
  {
   "cell_type": "code",
   "execution_count": 215,
   "id": "60e92485",
   "metadata": {},
   "outputs": [],
   "source": [
    "mse_bench= errors_bench_squared.mean()"
   ]
  },
  {
   "cell_type": "code",
   "execution_count": 220,
   "id": "444e366d",
   "metadata": {},
   "outputs": [
    {
     "name": "stdout",
     "output_type": "stream",
     "text": [
      "Our predictions without the model would be off by: 120799.50822335886 dollars\n"
     ]
    }
   ],
   "source": [
    "rmse_bench= np.sqrt(mse_bench)\n",
    "print('Our predictions without the model would be off by:', rmse_bench, 'dollars')"
   ]
  },
  {
   "cell_type": "code",
   "execution_count": 217,
   "id": "cad2f7cc",
   "metadata": {},
   "outputs": [],
   "source": [
    "ape_bench=(abs(errors_bench/Value_test))"
   ]
  },
  {
   "cell_type": "code",
   "execution_count": 219,
   "id": "e71a30fa",
   "metadata": {},
   "outputs": [
    {
     "name": "stdout",
     "output_type": "stream",
     "text": [
      "Oue predictions without the model would be off by:  0.24948447025855622 dollars\n"
     ]
    }
   ],
   "source": [
    "mape_bench= ape_bench.mean()\n",
    "print('Oue predictions without the model would be off by: ', mape_bench)"
   ]
  },
  {
   "cell_type": "code",
   "execution_count": null,
   "id": "a5f1441e",
   "metadata": {},
   "outputs": [],
   "source": []
  }
 ],
 "metadata": {
  "kernelspec": {
   "display_name": "Python 3 (ipykernel)",
   "language": "python",
   "name": "python3"
  },
  "language_info": {
   "codemirror_mode": {
    "name": "ipython",
    "version": 3
   },
   "file_extension": ".py",
   "mimetype": "text/x-python",
   "name": "python",
   "nbconvert_exporter": "python",
   "pygments_lexer": "ipython3",
   "version": "3.9.12"
  }
 },
 "nbformat": 4,
 "nbformat_minor": 5
}
